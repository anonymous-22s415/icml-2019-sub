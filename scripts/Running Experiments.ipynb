{
 "cells": [
  {
   "cell_type": "markdown",
   "metadata": {},
   "source": [
    "# Running Experiments"
   ]
  },
  {
   "cell_type": "markdown",
   "metadata": {},
   "source": [
    "This notebook shows how to use the `scripts` to execute experiments.\n",
    "\n",
    "For lighter-weight fiddling, the `critfinder` module provides a better API.\n",
    "The figure generation notebook contains an example under the **Wall Time** section."
   ]
  },
  {
   "cell_type": "code",
   "execution_count": null,
   "metadata": {},
   "outputs": [],
   "source": [
    "import os\n",
    "import sys\n",
    "\n",
    "path_above = os.path.abspath(\"..\")\n",
    "\n",
    "%env PYTHONPATH={path_above}\n",
    "\n",
    "sys.path.append(path_above)"
   ]
  },
  {
   "cell_type": "code",
   "execution_count": null,
   "metadata": {},
   "outputs": [],
   "source": [
    "import critfinder.utils.util"
   ]
  },
  {
   "cell_type": "markdown",
   "metadata": {},
   "source": [
    "## Setup"
   ]
  },
  {
   "cell_type": "markdown",
   "metadata": {},
   "source": [
    "We begin by setting some path variables and hyperparameters.\n",
    "\n",
    "`optimizations_path` is a path to a directory that will contain `optimizations`, which are combinations of an `optimizer` with a problem to run on. The problem is defined by its `data` and its `network`, both of which have configurations that are stored as `.json` files for easy reconstruction.\n",
    "\n",
    "These experiments are done with the presumption that the data has already been generated, and is located at the `data_path` below."
   ]
  },
  {
   "cell_type": "code",
   "execution_count": null,
   "metadata": {},
   "outputs": [],
   "source": [
    "optimizations_path = \"../results/optimizations\"\n",
    "data_path = \"../data/subtract_zero_center_gauss_16_linspace/xs.npy\"\n",
    "\n",
    "num_optimizer_steps = 10000\n",
    "num_gnm_steps = 50000\n",
    "num_newton_steps = 500"
   ]
  },
  {
   "cell_type": "markdown",
   "metadata": {},
   "source": [
    "## Optimization Experiment"
   ]
  },
  {
   "cell_type": "markdown",
   "metadata": {},
   "source": [
    "Both experiments are executed in the same fashion: first, a `setup` python script is run to create all of the configuration files for each component of the experiment: the data, the network, the optimizer/finder, etc.\n",
    "\n",
    "The `setup_XYZ_experiment.py` scripts take a very large number of keyword arguments, so they are equipped with documentation. Run `setup_XYZ_experiment.py -h` to see them."
   ]
  },
  {
   "cell_type": "markdown",
   "metadata": {},
   "source": [
    "### Setup"
   ]
  },
  {
   "cell_type": "markdown",
   "metadata": {},
   "source": [
    "Optimizers have identification strings which are either random or provided by the user. This is used to name the directory in which, by default, all of the configuration files are stored."
   ]
  },
  {
   "cell_type": "code",
   "execution_count": null,
   "metadata": {},
   "outputs": [],
   "source": [
    "optimizer_ID = critfinder.utils.util.random_string(6)\n",
    "\n",
    "print(optimizer_ID)"
   ]
  },
  {
   "cell_type": "code",
   "execution_count": null,
   "metadata": {},
   "outputs": [],
   "source": [
    "optimization_path = os.path.join(optimizations_path, optimizer_ID)"
   ]
  },
  {
   "cell_type": "code",
   "execution_count": null,
   "metadata": {},
   "outputs": [],
   "source": [
    "!python setup_optimization_experiment.py --results_path {optimizations_path} \\\n",
    "    --ID {optimizer_ID} \\\n",
    "    --data_path {data_path} \\\n",
    "    --layers 4 \\\n",
    "    --k 16 \\\n",
    "    --optimizer \"gd\"\\\n",
    "    --optimizer_lr 0.01\\\n",
    "    --zero_centering \"subtract_mean\""
   ]
  },
  {
   "cell_type": "markdown",
   "metadata": {},
   "source": [
    "Optimizers can be run multiple times from different initial choices of parameter value, with the resulting trajectory saved separately each time. In order to do so, we need to provide a different `trajectory_path` to the `run_optimizer_experiment.py` script each time it is executed. This is handled by the `optimizer_trajectory_increment` variable here, but one could also use random IDs.\n",
    "\n",
    "For downstream scripts, the default, when there is one, is to look for a trajectory at `0000.npz` within a given folder."
   ]
  },
  {
   "cell_type": "code",
   "execution_count": null,
   "metadata": {},
   "outputs": [],
   "source": [
    "optimizer_trajectory_increment = 3"
   ]
  },
  {
   "cell_type": "markdown",
   "metadata": {},
   "source": [
    "### Run"
   ]
  },
  {
   "cell_type": "markdown",
   "metadata": {},
   "source": [
    "We now run the experiment by passing the appropriate paths and a step count to `run_optimization_experiment`. If given an `optimization_path`, it will look for the configuration `.json` files in that directory."
   ]
  },
  {
   "cell_type": "code",
   "execution_count": null,
   "metadata": {},
   "outputs": [],
   "source": [
    "trajectory_path = os.path.join(optimization_path, \"trajectories\",\n",
    "                               str(optimizer_trajectory_increment).zfill(4) + \".npz\")\n",
    "\n",
    "!python run_optimization_experiment.py {num_optimizer_steps} \\\n",
    "    --optimization_path {optimization_path} --trajectory_path {trajectory_path}\n",
    "    \n",
    "optimizer_trajectory_increment += 1"
   ]
  },
  {
   "cell_type": "markdown",
   "metadata": {},
   "source": [
    "## Critfinder Experiments"
   ]
  },
  {
   "cell_type": "markdown",
   "metadata": {},
   "source": [
    "Critfinder experiments are executed in much the same fashion: `setup` and then `run`."
   ]
  },
  {
   "cell_type": "markdown",
   "metadata": {},
   "source": [
    "### Setup"
   ]
  },
  {
   "cell_type": "markdown",
   "metadata": {},
   "source": [
    "The most important variable is the `finder_str`, which identifies the critfinding algorithm. Current choices are `gnm` (gradient norm minimization, as in Pennington and Bahri), `newtonMR` (`m`in`r`es, by Roosta et al.), and `newtonTR` (trust region, as in Dauphin et al.)."
   ]
  },
  {
   "cell_type": "code",
   "execution_count": null,
   "metadata": {},
   "outputs": [],
   "source": [
    "finder_str = \"newtonMR\""
   ]
  },
  {
   "cell_type": "markdown",
   "metadata": {},
   "source": [
    "I've elected to organize around particular optimization problems, which combine loss surfaces and optimizers on those loss surfaces (which generate trajectories that have candidate initial thetas)."
   ]
  },
  {
   "cell_type": "code",
   "execution_count": null,
   "metadata": {},
   "outputs": [],
   "source": [
    "critfinders_path = os.path.join(optimization_path, \"critfinders\")"
   ]
  },
  {
   "cell_type": "markdown",
   "metadata": {},
   "source": [
    "Critfinders are setup using the `setup_critfinder.py` script."
   ]
  },
  {
   "cell_type": "markdown",
   "metadata": {},
   "source": [
    "The argument structure is quite different depending on which method is being called: for example, `gnm` needs `minimizer`, either `g`radient `d`escent, `momentum`, or `b`ack`t`racking `l`ine `s`earch, while `newtonXY` methods do not."
   ]
  },
  {
   "cell_type": "code",
   "execution_count": null,
   "metadata": {},
   "outputs": [],
   "source": [
    "def setup_critfinder(critfinder_ID, finder_str, optimizer_trajectory_increment, theta_pertub=None):\n",
    "\n",
    "    trajectory_file = str(optimizer_trajectory_increment).zfill(4) + \".npz\"\n",
    "\n",
    "     if noise_level is not None:\n",
    "        if finder_str == \"gnm\":\n",
    "            !python setup_critfinder_experiment.py {optimization_path} {finder_str} \\\n",
    "                --base_critfinders_path {critfinders_path} \\\n",
    "                --ID {critfinder_ID} \\\n",
    "                --minimizer \"btls\" \\\n",
    "                --init_theta \"uniform_f\" \\\n",
    "                --theta_perturb {theta_perturb} \\\n",
    "                --trajectory_file {trajectory_file}\n",
    "            \n",
    "        if \"newton\" in finder_str:\n",
    "            !python setup_critfinder_experiment.py {optimization_path} {finder_str} \\\n",
    "                --base_critfinders_path {critfinders_path} \\\n",
    "                --ID {critfinder_ID} \\\n",
    "                --init_theta \"uniform_f\" \\\n",
    "                --theta_perturb {theta_perturb} \\\n",
    "                --trajectory_file {trajectory_file} \\\n",
    "                --gamma_mx 2 \\\n",
    "                --gamma_k 10\n",
    "    else:\n",
    "        \n",
    "        if finder_str == \"gnm\":\n",
    "            !python setup_critfinder_experiment.py {optimization_path} {finder_str} \\\n",
    "                --base_critfinders_path {critfinders_path} \\\n",
    "                --ID {critfinder_ID} \\\n",
    "                --minimizer \"btls\" \\\n",
    "                --init_theta \"uniform_f\" \\\n",
    "                --trajectory_file {trajectory_file}\n",
    "\n",
    "        if \"newton\" in finder_str:\n",
    "            !python setup_critfinder_experiment.py {optimization_path} {finder_str} \\\n",
    "                --base_critfinders_path {critfinders_path} \\\n",
    "                --ID {critfinder_ID} \\\n",
    "                --init_theta \"uniform_f\" \\\n",
    "                --trajectory_file {trajectory_file} \\\n",
    "                --gamma_mx 2 \\\n",
    "                --gamma_k 10"
   ]
  },
  {
   "cell_type": "markdown",
   "metadata": {
    "collapsed": true
   },
   "source": [
    "### Run"
   ]
  },
  {
   "cell_type": "code",
   "execution_count": null,
   "metadata": {},
   "outputs": [],
   "source": [
    "runs_per_critfinder = 100"
   ]
  },
  {
   "cell_type": "code",
   "execution_count": null,
   "metadata": {},
   "outputs": [],
   "source": [
    "starting_trajectory_increment = 0\n",
    "ending_trajectory_increment = 1\n",
    "    \n",
    "\n",
    "for optimizer_trajectory_increment in range(starting_trajectory_increment, ending_trajectory_increment):\n",
    "\n",
    "    critfinder_ID = finder_str + \"_\" + critfinder.utils.util.random_string(6)\n",
    "\n",
    "    print(optimizer_trajectory_increment, critfinder_ID)\n",
    "\n",
    "    setup_critfinder(critfinder_ID, finder_str, optimizer_trajectory_increment)\n",
    "\n",
    "    for ii in range(0, runs_per_critfinder):\n",
    "        print(\"\\t\" + str(ii))\n",
    "        critfinder_path = os.path.join(critfinders_path, critfinder_ID)\n",
    "\n",
    "        output_folder = os.path.join(critfinder_path, \"output\")\n",
    "\n",
    "        output_path = os.path.join(output_folder, str(ii).zfill(4) + \".npz\")\n",
    "\n",
    "        if finder_str == \"gnm\":\n",
    "            !python run_critfinder_experiment.py {critfinder_path} {output_path} {num_gnm_steps}\n",
    "        elif \"newton\" in finder_str:\n",
    "            !python run_critfinder_experiment.py {critfinder_path} {output_path} {num_newton_steps}"
   ]
  }
 ],
 "metadata": {
  "kernelspec": {
   "display_name": "Python 3",
   "language": "python",
   "name": "python3"
  },
  "language_info": {
   "codemirror_mode": {
    "name": "ipython",
    "version": 3
   },
   "file_extension": ".py",
   "mimetype": "text/x-python",
   "name": "python",
   "nbconvert_exporter": "python",
   "pygments_lexer": "ipython3",
   "version": "3.6.7"
  }
 },
 "nbformat": 4,
 "nbformat_minor": 2
}
